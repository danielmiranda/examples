{
 "cells": [
  {
   "cell_type": "code",
   "execution_count": 1,
   "id": "4343d320-90d3-4de9-9e1a-16d80cc9a190",
   "metadata": {},
   "outputs": [],
   "source": [
    "#!pip install ipywidget"
   ]
  },
  {
   "cell_type": "code",
   "execution_count": 2,
   "id": "676c7e52-ad5c-4b12-9a59-fa260ee51b84",
   "metadata": {},
   "outputs": [],
   "source": [
    "# https://ipywidgets.readthedocs.io/en/latest/examples/Widget%20List.html\n",
    "# https://ipywidgets.readthedocs.io/en/8.0.5/_modules/ipywidgets/widgets/widget_upload.html"
   ]
  },
  {
   "cell_type": "code",
   "execution_count": 1,
   "id": "84fc3ffc-6545-4794-9319-bdd1d1cfd278",
   "metadata": {},
   "outputs": [],
   "source": [
    "from langchain.callbacks.manager import CallbackManager\n",
    "from langchain.callbacks.streaming_stdout import StreamingStdOutCallbackHandler\n",
    "from langchain_community.llms import Ollama\n",
    "\n",
    "SYSTEM_PROMPT = \"You are an obsessive and detail-oriented assistant who specializes in reviewing images and describing their content in detail, especially recognizing accurately texts and numbers.\" # (string) system prompt (overrides what is defined in the Modelfile)\n",
    "VERBOSE = True\n",
    "CACHE = False\n",
    "NUM_CTX = None # (int) Sets the size of the context window used to generate the next token. (Default: 2048)\n",
    "NUM_GPU = None # (int) The number of GPUs to use. On macOS it defaults to 1 to enable metal support, 0 to disable.\n",
    "NUM_THREAD = None # (int) Sets the number of threads to use during computation. By default, Ollama will detect this for optimal performance. It is recommended to set this value to the number of physical CPU cores your system has (as opposed to the logical number of cores).\n",
    "REPEAT_PENALTY = None # (float) Sets how strongly to penalize repetitions. A higher value (e.g., 1.5) will penalize repetitions more strongly, while a lower value (e.g., 0.9) will be more lenient. (Default: 1.1)\n",
    "TEMPERATURE = None # (float) The temperature of the model. Increasing the temperature will make the model answer more creatively. (Default: 0.8)\n",
    "TEMPLATE = None # (string) full prompt or prompt template (overrides what is defined in the Modelfile)\n",
    "TIMEOUT = None # (int) Timeout for the request stream\n",
    "\n",
    "llm = Ollama(\n",
    "    model=\"bakllava\",\n",
    "    callback_manager=CallbackManager([StreamingStdOutCallbackHandler()]),\n",
    "    base_url='http://host.docker.internal:11434',\n",
    "    system=SYSTEM_PROMPT,\n",
    "    verbose= VERBOSE,\n",
    "    cache= CACHE,\n",
    "    num_ctx= NUM_CTX,\n",
    "    num_gpu= NUM_GPU,\n",
    "    num_thread= NUM_THREAD,\n",
    "    repeat_penalty= REPEAT_PENALTY,\n",
    "    temperature= TEMPERATURE,\n",
    "    template= TEMPLATE,\n",
    "    timeout= TIMEOUT,\n",
    "    \n",
    ")"
   ]
  },
  {
   "cell_type": "code",
   "execution_count": 2,
   "id": "2e8fb3ae-1d39-4e31-afd0-04decb3edbd3",
   "metadata": {},
   "outputs": [],
   "source": [
    "import base64\n",
    "from io import BytesIO\n",
    "import io\n",
    "\n",
    "from IPython.display import HTML, display\n",
    "from PIL import Image\n",
    "\n",
    "def convert_to_base64(pil_image):\n",
    "    buffered = BytesIO()\n",
    "    pil_image.save(buffered, format=\"JPEG\")  # You can change the format if needed\n",
    "    img_str = base64.b64encode(buffered.getvalue()).decode(\"utf-8\")\n",
    "    return img_str\n"
   ]
  },
  {
   "cell_type": "code",
   "execution_count": 4,
   "id": "bc9b0e0a-1890-4b91-b3ef-68fbf21f48dd",
   "metadata": {},
   "outputs": [
    {
     "data": {
      "application/vnd.jupyter.widget-view+json": {
       "model_id": "73de1e1222824860a5f85756a3729992",
       "version_major": 2,
       "version_minor": 0
      },
      "text/plain": [
       "Label(value=' Seleccione una imagen ')"
      ]
     },
     "metadata": {},
     "output_type": "display_data"
    },
    {
     "data": {
      "application/vnd.jupyter.widget-view+json": {
       "model_id": "9a2bcf4542c34998aa6c954804f157d5",
       "version_major": 2,
       "version_minor": 0
      },
      "text/plain": [
       "FileUpload(value=(), description='Upload')"
      ]
     },
     "metadata": {},
     "output_type": "display_data"
    },
    {
     "data": {
      "application/vnd.jupyter.widget-view+json": {
       "model_id": "9cc1219daff54f72bb1e5f337d7abf8c",
       "version_major": 2,
       "version_minor": 0
      },
      "text/plain": [
       "Image(value=b'', width='200')"
      ]
     },
     "metadata": {},
     "output_type": "display_data"
    }
   ],
   "source": [
    "# https://ipywidgets.readthedocs.io/en/latest/examples/Widget%20Events.html#registering-callbacks-to-trait-changes-in-the-kernel\n",
    "# uploader.value[0].content.tobytes()\n",
    "# https://ipywidgets.readthedocs.io/en/latest/_modules/ipywidgets/widgets/widget_upload.html\n",
    "\n",
    "import ipywidgets as widgets\n",
    "\n",
    "label = widgets.Label(\" Seleccione una imagen \")\n",
    "uploader = widgets.FileUpload()\n",
    "\n",
    "imagen = widgets.Image( width=200, placeholder='imagen')\n",
    "\n",
    "def on_upload_change(change):\n",
    "    imagen.value = change.new[0]['content']\n",
    "    label.value = \"Imagen Cargada\"\n",
    "\n",
    "uploader.observe(on_upload_change, names='value')\n",
    "display(label, uploader, imagen)\n"
   ]
  },
  {
   "cell_type": "code",
   "execution_count": 6,
   "id": "617d701b-893b-4746-b4d3-08269c19bb15",
   "metadata": {},
   "outputs": [
    {
     "data": {
      "application/vnd.jupyter.widget-view+json": {
       "model_id": "dfea6c1f1dd340f39e3fe65c22fc3bbb",
       "version_major": 2,
       "version_minor": 0
      },
      "text/plain": [
       "Button(description='Analizar Imagen', style=ButtonStyle())"
      ]
     },
     "metadata": {},
     "output_type": "display_data"
    },
    {
     "data": {
      "application/vnd.jupyter.widget-view+json": {
       "model_id": "1d6b29ee9d46404287c4c4d94ea67b8c",
       "version_major": 2,
       "version_minor": 0
      },
      "text/plain": [
       "Output()"
      ]
     },
     "metadata": {},
     "output_type": "display_data"
    }
   ],
   "source": [
    "from IPython.display import display\n",
    "button = widgets.Button(description=\"Analizar Imagen\")\n",
    "output = widgets.Output()\n",
    "\n",
    "display(button, output)\n",
    "\n",
    "def on_button_clicked(b):\n",
    "    with output:\n",
    "        print('-- INICIANDO ANALISIS --')\n",
    "        image_b64 = convert_to_base64(Image.open(io.BytesIO(uploader.value[0]['content'])))\n",
    "        llm_with_image_context = llm.bind(images=[image_b64])\n",
    "        llm_with_image_context.invoke(\"What does this image show?\")\n",
    "        print('\\n')\n",
    "        print('-- FINALIZADO --')\n",
    "        \n",
    "\n",
    "button.on_click(on_button_clicked)"
   ]
  },
  {
   "cell_type": "code",
   "execution_count": null,
   "id": "0a893979-7cdb-4dc6-9cfd-25588cb18876",
   "metadata": {},
   "outputs": [],
   "source": []
  }
 ],
 "metadata": {
  "kernelspec": {
   "display_name": "Python 3 (ipykernel)",
   "language": "python",
   "name": "python3"
  },
  "language_info": {
   "codemirror_mode": {
    "name": "ipython",
    "version": 3
   },
   "file_extension": ".py",
   "mimetype": "text/x-python",
   "name": "python",
   "nbconvert_exporter": "python",
   "pygments_lexer": "ipython3",
   "version": "3.10.11"
  }
 },
 "nbformat": 4,
 "nbformat_minor": 5
}
